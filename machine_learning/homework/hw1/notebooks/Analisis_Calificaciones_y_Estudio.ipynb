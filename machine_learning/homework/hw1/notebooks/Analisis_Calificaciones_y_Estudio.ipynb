{
 "cells": [
  {
   "cell_type": "markdown",
   "id": "d031f642",
   "metadata": {},
   "source": [
    "\n",
    "# Análisis de Datos de Calificaciones y Tiempo de Estudio\n",
    "\n",
    "Este notebook presenta un análisis exploratorio de datos y una regresión lineal aplicada a un conjunto de datos de calificaciones y horas dedicadas al estudio por estudiantes. El objetivo es explorar la relación entre el tiempo de estudio y el rendimiento académico.\n"
   ]
  },
  {
   "cell_type": "code",
   "execution_count": 24,
   "id": "b4258ad3",
   "metadata": {},
   "outputs": [],
   "source": [
    "\n",
    "import pandas as pd\n",
    "import numpy as np\n",
    "import matplotlib.pyplot as plt\n",
    "from scipy import stats\n",
    "from sklearn.linear_model import LinearRegression\n",
    "from sklearn.metrics import mean_squared_error, r2_score\n"
   ]
  },
  {
   "cell_type": "code",
   "execution_count": 25,
   "id": "1d7dbc18",
   "metadata": {},
   "outputs": [
    {
     "data": {
      "text/html": [
       "<div>\n",
       "<style scoped>\n",
       "    .dataframe tbody tr th:only-of-type {\n",
       "        vertical-align: middle;\n",
       "    }\n",
       "\n",
       "    .dataframe tbody tr th {\n",
       "        vertical-align: top;\n",
       "    }\n",
       "\n",
       "    .dataframe thead th {\n",
       "        text-align: right;\n",
       "    }\n",
       "</style>\n",
       "<table border=\"1\" class=\"dataframe\">\n",
       "  <thead>\n",
       "    <tr style=\"text-align: right;\">\n",
       "      <th></th>\n",
       "      <th>nombre</th>\n",
       "      <th>apellido</th>\n",
       "      <th>horas_dedicadas</th>\n",
       "      <th>calificaciones_obtenida</th>\n",
       "    </tr>\n",
       "  </thead>\n",
       "  <tbody>\n",
       "    <tr>\n",
       "      <th>0</th>\n",
       "      <td>Sofía Sánchez</td>\n",
       "      <td>Rodríguez</td>\n",
       "      <td>52</td>\n",
       "      <td>45.0</td>\n",
       "    </tr>\n",
       "    <tr>\n",
       "      <th>1</th>\n",
       "      <td>Luis Romero</td>\n",
       "      <td>Romero</td>\n",
       "      <td>2</td>\n",
       "      <td>NaN</td>\n",
       "    </tr>\n",
       "    <tr>\n",
       "      <th>2</th>\n",
       "      <td>Juan Díaz</td>\n",
       "      <td>López</td>\n",
       "      <td>170</td>\n",
       "      <td>100.0</td>\n",
       "    </tr>\n",
       "    <tr>\n",
       "      <th>3</th>\n",
       "      <td>Miguel Hernández</td>\n",
       "      <td>Álvarez</td>\n",
       "      <td>42</td>\n",
       "      <td>NaN</td>\n",
       "    </tr>\n",
       "    <tr>\n",
       "      <th>4</th>\n",
       "      <td>Juan González</td>\n",
       "      <td>Díaz</td>\n",
       "      <td>125</td>\n",
       "      <td>70.0</td>\n",
       "    </tr>\n",
       "  </tbody>\n",
       "</table>\n",
       "</div>"
      ],
      "text/plain": [
       "             nombre   apellido  horas_dedicadas  calificaciones_obtenida\n",
       "0     Sofía Sánchez  Rodríguez               52                     45.0\n",
       "1       Luis Romero     Romero                2                      NaN\n",
       "2         Juan Díaz      López              170                    100.0\n",
       "3  Miguel Hernández    Álvarez               42                      NaN\n",
       "4     Juan González       Díaz              125                     70.0"
      ]
     },
     "execution_count": 25,
     "metadata": {},
     "output_type": "execute_result"
    }
   ],
   "source": [
    "\n",
    "file_path = '../data/raw/datos.csv'\n",
    "data = pd.read_csv(file_path)\n",
    "data.head()\n"
   ]
  },
  {
   "cell_type": "markdown",
   "id": "7e9468a4",
   "metadata": {},
   "source": [
    "\n",
    "## Análisis Exploratorio de Datos\n",
    "\n",
    "Calculamos estadísticas descriptivas básicas para entender la distribución de las horas dedicadas al estudio y las calificaciones obtenidas.\n"
   ]
  },
  {
   "cell_type": "code",
   "execution_count": 26,
   "id": "534cb10a",
   "metadata": {},
   "outputs": [
    {
     "data": {
      "text/markdown": [
       "### Estadísticas Descriptivas de Horas Dedicadas"
      ],
      "text/plain": [
       "<IPython.core.display.Markdown object>"
      ]
     },
     "metadata": {},
     "output_type": "display_data"
    },
    {
     "data": {
      "text/html": [
       "<div>\n",
       "<style scoped>\n",
       "    .dataframe tbody tr th:only-of-type {\n",
       "        vertical-align: middle;\n",
       "    }\n",
       "\n",
       "    .dataframe tbody tr th {\n",
       "        vertical-align: top;\n",
       "    }\n",
       "\n",
       "    .dataframe thead th {\n",
       "        text-align: right;\n",
       "    }\n",
       "</style>\n",
       "<table border=\"1\" class=\"dataframe\">\n",
       "  <thead>\n",
       "    <tr style=\"text-align: right;\">\n",
       "      <th></th>\n",
       "      <th>Estadísticas de horas_dedicadas</th>\n",
       "    </tr>\n",
       "  </thead>\n",
       "  <tbody>\n",
       "    <tr>\n",
       "      <th>count</th>\n",
       "      <td>20.000000</td>\n",
       "    </tr>\n",
       "    <tr>\n",
       "      <th>mean</th>\n",
       "      <td>99.400000</td>\n",
       "    </tr>\n",
       "    <tr>\n",
       "      <th>std</th>\n",
       "      <td>58.129076</td>\n",
       "    </tr>\n",
       "    <tr>\n",
       "      <th>min</th>\n",
       "      <td>2.000000</td>\n",
       "    </tr>\n",
       "    <tr>\n",
       "      <th>25%</th>\n",
       "      <td>50.000000</td>\n",
       "    </tr>\n",
       "    <tr>\n",
       "      <th>50%</th>\n",
       "      <td>98.500000</td>\n",
       "    </tr>\n",
       "    <tr>\n",
       "      <th>75%</th>\n",
       "      <td>154.500000</td>\n",
       "    </tr>\n",
       "    <tr>\n",
       "      <th>max</th>\n",
       "      <td>178.000000</td>\n",
       "    </tr>\n",
       "  </tbody>\n",
       "</table>\n",
       "</div>"
      ],
      "text/plain": [
       "       Estadísticas de horas_dedicadas\n",
       "count                        20.000000\n",
       "mean                         99.400000\n",
       "std                          58.129076\n",
       "min                           2.000000\n",
       "25%                          50.000000\n",
       "50%                          98.500000\n",
       "75%                         154.500000\n",
       "max                         178.000000"
      ]
     },
     "metadata": {},
     "output_type": "display_data"
    },
    {
     "data": {
      "text/markdown": [
       "### Estadísticas Descriptivas de Calificaciones Obtenidas"
      ],
      "text/plain": [
       "<IPython.core.display.Markdown object>"
      ]
     },
     "metadata": {},
     "output_type": "display_data"
    },
    {
     "data": {
      "text/html": [
       "<div>\n",
       "<style scoped>\n",
       "    .dataframe tbody tr th:only-of-type {\n",
       "        vertical-align: middle;\n",
       "    }\n",
       "\n",
       "    .dataframe tbody tr th {\n",
       "        vertical-align: top;\n",
       "    }\n",
       "\n",
       "    .dataframe thead th {\n",
       "        text-align: right;\n",
       "    }\n",
       "</style>\n",
       "<table border=\"1\" class=\"dataframe\">\n",
       "  <thead>\n",
       "    <tr style=\"text-align: right;\">\n",
       "      <th></th>\n",
       "      <th>Estadísticas de calificaciones_obtenida</th>\n",
       "    </tr>\n",
       "  </thead>\n",
       "  <tbody>\n",
       "    <tr>\n",
       "      <th>count</th>\n",
       "      <td>18.000000</td>\n",
       "    </tr>\n",
       "    <tr>\n",
       "      <th>mean</th>\n",
       "      <td>64.055556</td>\n",
       "    </tr>\n",
       "    <tr>\n",
       "      <th>std</th>\n",
       "      <td>33.539217</td>\n",
       "    </tr>\n",
       "    <tr>\n",
       "      <th>min</th>\n",
       "      <td>0.000000</td>\n",
       "    </tr>\n",
       "    <tr>\n",
       "      <th>25%</th>\n",
       "      <td>41.250000</td>\n",
       "    </tr>\n",
       "    <tr>\n",
       "      <th>50%</th>\n",
       "      <td>70.000000</td>\n",
       "    </tr>\n",
       "    <tr>\n",
       "      <th>75%</th>\n",
       "      <td>97.250000</td>\n",
       "    </tr>\n",
       "    <tr>\n",
       "      <th>max</th>\n",
       "      <td>100.000000</td>\n",
       "    </tr>\n",
       "  </tbody>\n",
       "</table>\n",
       "</div>"
      ],
      "text/plain": [
       "       Estadísticas de calificaciones_obtenida\n",
       "count                                18.000000\n",
       "mean                                 64.055556\n",
       "std                                  33.539217\n",
       "min                                   0.000000\n",
       "25%                                  41.250000\n",
       "50%                                  70.000000\n",
       "75%                                  97.250000\n",
       "max                                 100.000000"
      ]
     },
     "metadata": {},
     "output_type": "display_data"
    }
   ],
   "source": [
    "from IPython.display import display, Markdown\n",
    "\n",
    "# Definimos una función para mostrar las estadísticas descriptivas de manera más visual\n",
    "def display_descriptive_stats(dataframe, column_name):\n",
    "    stats = dataframe[column_name].describe()\n",
    "    stats_df = pd.DataFrame(stats)\n",
    "    stats_df.columns = [f\"Estadísticas de {column_name}\"]\n",
    "    return stats_df\n",
    "\n",
    "# Mostramos las estadísticas descriptivas para 'horas_dedicadas'\n",
    "display(Markdown(\"### Estadísticas Descriptivas de Horas Dedicadas\"))\n",
    "display(display_descriptive_stats(data, 'horas_dedicadas'))\n",
    "\n",
    "# Mostramos las estadísticas descriptivas para 'calificaciones_obtenida', excluyendo NaN\n",
    "display(Markdown(\"### Estadísticas Descriptivas de Calificaciones Obtenidas\"))\n",
    "display(display_descriptive_stats(data_limpia, 'calificaciones_obtenida'))\n"
   ]
  },
  {
   "cell_type": "markdown",
   "id": "e791a7aa",
   "metadata": {},
   "source": [
    "\n",
    "## Regresión Lineal\n",
    "\n",
    "Realizamos una regresión lineal para analizar la relación entre las horas dedicadas al estudio y las calificaciones obtenidas.\n"
   ]
  },
  {
   "cell_type": "code",
   "execution_count": 27,
   "id": "77dddedd",
   "metadata": {},
   "outputs": [
    {
     "data": {
      "image/png": "[encoded data removed]",
      "text/plain": [
       "<Figure size 1000x600 with 1 Axes>"
      ]
     },
     "metadata": {},
     "output_type": "display_data"
    },
    {
     "data": {
      "text/plain": [
       "(365.1070918886464, 0.6563328585151595)"
      ]
     },
     "execution_count": 27,
     "metadata": {},
     "output_type": "execute_result"
    }
   ],
   "source": [
    "\n",
    "X = data_limpia[['horas_dedicadas']]\n",
    "y = data_limpia['calificaciones_obtenida']\n",
    "modelo = LinearRegression()\n",
    "modelo.fit(X, y)\n",
    "predicciones = modelo.predict(X)\n",
    "mse = mean_squared_error(y, predicciones)\n",
    "r2 = r2_score(y, predicciones)\n",
    "\n",
    "plt.figure(figsize=(10, 6))\n",
    "plt.scatter(X, y, color='blue', label='Datos Reales')\n",
    "plt.plot(X, predicciones, color='red', label='Línea de Regresión')\n",
    "plt.title('Regresión Lineal: Horas Dedicadas vs. Calificaciones Obtenidas')\n",
    "plt.xlabel('Horas Dedicadas')\n",
    "plt.ylabel('Calificaciones Obtenidas')\n",
    "plt.legend()\n",
    "plt.show()\n",
    "\n",
    "(mse, r2)\n"
   ]
  },
  {
   "cell_type": "markdown",
   "id": "7851d06c",
   "metadata": {},
   "source": [
    "El análisis de regresión lineal muestra que hay una relación positiva entre el número de horas dedicadas y las calificaciones obtenidas. La línea de regresión, representada en el gráfico, ilustra cómo se espera que aumenten las calificaciones a medida que se incrementa el número de horas dedicadas al estudio.."
   ]
  },
  {
   "cell_type": "markdown",
   "id": "182db854",
   "metadata": {},
   "source": [
    "## Predicción de Calificación Basada en Horas Dedicadas\n",
    "\n",
    "Utilizando el modelo de regresión lineal desarrollado previamente, podemos predecir la calificación esperada para un número específico de horas dedicadas al estudio. Este análisis nos permite entender el impacto estimado del tiempo de estudio en el rendimiento académico.\n",
    "\n",
    "Consideraremos un caso hipotético en el que queremos predecir la calificación de un estudiante que ha dedicado un número de horas igual a la suma de los dígitos de su número de cuenta módulo 50.\n"
   ]
  },
  {
   "cell_type": "code",
   "execution_count": 28,
   "id": "4059c7ef",
   "metadata": {},
   "outputs": [
    {
     "name": "stdout",
     "output_type": "stream",
     "text": [
      "La calificación predicha para un estudiante que dedicó 120 horas es: 70.06\n"
     ]
    },
    {
     "name": "stderr",
     "output_type": "stream",
     "text": [
      "/home/shaman/.cache/pypoetry/virtualenvs/machine-learning-3DbA06_O-py3.12/lib/python3.12/site-packages/sklearn/base.py:493: UserWarning: X does not have valid feature names, but LinearRegression was fitted with feature names\n",
      "  warnings.warn(\n"
     ]
    }
   ],
   "source": [
    "# Suponiendo que 'n_horas' es la suma de los dígitos del número de cuenta módulo 50\n",
    "# Aquí se utiliza un valor hipotético para 'n_horas'.\n",
    "n_horas = 120\n",
    "\n",
    "# Realizando la predicción utilizando el modelo de regresión lineal\n",
    "calificacion_predicha = modelo.predict([[n_horas]])\n",
    "\n",
    "print(f\"La calificación predicha para un estudiante que dedicó {n_horas} horas es: {calificacion_predicha[0]:.2f}\")\n"
   ]
  },
  {
   "cell_type": "markdown",
   "id": "dbb27459",
   "metadata": {},
   "source": [
    "## Evaluación de la Bondad de Ajuste del Modelo\n",
    "\n",
    "Para determinar la efectividad de nuestro modelo de regresión lineal en explicar las calificaciones obtenidas, evaluaremos la bondad de ajuste utilizando el coeficiente de determinación, conocido como \\(R^2\\). Este coeficiente cuantifica la proporción de la variabilidad en la variable dependiente que es predecible a partir de la variable independiente.\n"
   ]
  },
  {
   "cell_type": "code",
   "execution_count": 29,
   "id": "c8f5aba5",
   "metadata": {},
   "outputs": [
    {
     "ename": "NameError",
     "evalue": "name 'datos_limpios' is not defined",
     "output_type": "error",
     "traceback": [
      "\u001b[0;31m---------------------------------------------------------------------------\u001b[0m",
      "\u001b[0;31mNameError\u001b[0m                                 Traceback (most recent call last)",
      "Cell \u001b[0;32mIn[29], line 4\u001b[0m\n\u001b[1;32m      1\u001b[0m \u001b[38;5;28;01mfrom\u001b[39;00m \u001b[38;5;21;01msklearn\u001b[39;00m\u001b[38;5;21;01m.\u001b[39;00m\u001b[38;5;21;01mmetrics\u001b[39;00m \u001b[38;5;28;01mimport\u001b[39;00m r2_score\n\u001b[1;32m      3\u001b[0m \u001b[38;5;66;03m# Calculando el coeficiente de determinación R^2 para el modelo\u001b[39;00m\n\u001b[0;32m----> 4\u001b[0m y_real \u001b[38;5;241m=\u001b[39m \u001b[43mdatos_limpios\u001b[49m[\u001b[38;5;124m'\u001b[39m\u001b[38;5;124mcalificaciones_obtenida\u001b[39m\u001b[38;5;124m'\u001b[39m]\n\u001b[1;32m      5\u001b[0m X_real \u001b[38;5;241m=\u001b[39m datos_limpios[[\u001b[38;5;124m'\u001b[39m\u001b[38;5;124mhoras_dedicadas\u001b[39m\u001b[38;5;124m'\u001b[39m]]\n\u001b[1;32m      6\u001b[0m y_predicha \u001b[38;5;241m=\u001b[39m modelo\u001b[38;5;241m.\u001b[39mpredict(X_real)\n",
      "\u001b[0;31mNameError\u001b[0m: name 'datos_limpios' is not defined"
     ]
    }
   ],
   "source": [
    "from sklearn.metrics import r2_score\n",
    "\n",
    "\n",
    "# Calculando el coeficiente de determinación R^2 para el modelo\n",
    "y_real = datos_limpios['calificaciones_obtenida']\n",
    "X_real = datos_limpios[['horas_dedicadas']]\n",
    "y_predicha = modelo.predict(X_real)\n",
    "\n",
    "r2 = r2_score(y_real, y_predicha)\n",
    "\n",
    "print(f\"El coeficiente de determinación (R^2) del modelo es: {r2:.4f}\")\n"
   ]
  },
  {
   "cell_type": "markdown",
   "id": "0d25702f",
   "metadata": {},
   "source": [
    "\n",
    "## Conclusión\n",
    "\n",
    "Este análisis proporciona una visión sobre cómo el tiempo dedicado al estudio puede influir en las calificaciones obtenidas. El modelo de regresión lineal indica que hay una relación moderada entre el número de horas dedicadas y el rendimiento académico. Futuras investigaciones podrían explorar la influencia de variables adicionales en el rendimiento académico.\n"
   ]
  }
 ],
 "metadata": {
  "kernelspec": {
   "display_name": "machine-learning-3DbA06_O-py3.12",
   "language": "python",
   "name": "python3"
  },
  "language_info": {
   "codemirror_mode": {
    "name": "ipython",
    "version": 3
   },
   "file_extension": ".py",
   "mimetype": "text/x-python",
   "name": "python",
   "nbconvert_exporter": "python",
   "pygments_lexer": "ipython3",
   "version": "3.12.1"
  }
 },
 "nbformat": 4,
 "nbformat_minor": 5
}
