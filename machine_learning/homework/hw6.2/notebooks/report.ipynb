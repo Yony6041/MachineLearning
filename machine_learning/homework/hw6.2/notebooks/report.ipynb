{
 "cells": [
  {
   "cell_type": "markdown",
   "metadata": {},
   "source": [
    "<h1 style=\"text-align: center;\">Redes neuronales multicapa (fronteras no lineales)</h1>"
   ]
  },
  {
   "cell_type": "markdown",
   "metadata": {},
   "source": [
    "\n",
    "<h3 style=\"text-align: center;\">Instrucciones</h3>\n",
    "\n",
    "1. Entra en el siguiente enlace https://playground.tensorflow.org/ y configura los hiperparámetros de una red neuronal multicapa para separar las clases del dataset spiral, guarda el enlace y la captura de pantalla de tu entrenamiento y pégalos en un notebook de jupyter.\n",
    "\n",
    "![Screenshot](../../../../documentation/media/png/params.png \"Parameters & Hyperparameters\")\n",
    "\n",
    "2. Elabora el código en python con keras de un modelo de red neuronal para el mismo dataset, en este caso debes generar tus datos. Entrena el modelo con diferentes configuraciones y grafica los puntos del dataset y la frontera de decisión de tu modelo.\n",
    "3. (Opcional) Selecciona otro dataset que no sea linealmente separable, y desarrolla los pasos 1 y 2 nuevamente."
   ]
  }
 ],
 "metadata": {
  "language_info": {
   "name": "python"
  }
 },
 "nbformat": 4,
 "nbformat_minor": 2
}
