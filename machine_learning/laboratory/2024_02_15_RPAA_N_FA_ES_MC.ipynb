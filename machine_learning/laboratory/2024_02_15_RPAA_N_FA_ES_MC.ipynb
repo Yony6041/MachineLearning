{
  "nbformat": 4,
  "nbformat_minor": 0,
  "metadata": {
    "colab": {
      "provenance": []
    },
    "kernelspec": {
      "name": "python3",
      "display_name": "Python 3"
    },
    "language_info": {
      "name": "python"
    }
  },
  "cells": [
    {
      "cell_type": "markdown",
      "source": [],
      "metadata": {
        "id": "0nwqpAKy4481"
      }
    },
    {
      "cell_type": "code",
      "execution_count": null,
      "metadata": {
        "id": "CcfZn-lW4lKv"
      },
      "outputs": [],
      "source": [
        "from keras.datasets import mnist\n",
        "import numpy as np\n",
        "\n",
        "def balanced_mnist_set():\n",
        "  (x_train, y_train), (x_test, y_test) = mnist.load_data()\n",
        "\n",
        "  # Se obtiene una muestra con igual número de: cincos vs no cincos\n",
        "  # para el conjunto de entrenamiento y el de test\n",
        "  idx_y_train_5 = np.where(y_train == 5)[0]\n",
        "  idx_y_train_n5 = np.where(y_train != 5)[0]\n",
        "  idx_y_train_n5 = np.random.choice(idx_y_train_n5, idx_y_train_5.shape[0], replace=False)\n",
        "\n",
        "  idx_y_train = np.concatenate([idx_y_train_5, idx_y_train_n5])\n",
        "  np.random.shuffle(idx_y_train)\n",
        "\n",
        "  x_train = x_train[idx_y_train]\n",
        "  y_train = y_train[idx_y_train]\n",
        "  #print(x_train.shape)\n",
        "\n",
        "  idx_y_test_5 = np.where(y_test == 5)[0]\n",
        "  idx_y_test_n5 = np.where(y_test != 5)[0]\n",
        "  idx_y_test_n5 = np.random.choice(idx_y_test_n5, idx_y_test_5.shape[0], replace=False)\n",
        "\n",
        "  idx_y_test = np.concatenate([idx_y_test_5, idx_y_test_n5])\n",
        "  np.random.shuffle(idx_y_test)\n",
        "\n",
        "  x_test = x_test[idx_y_test]\n",
        "  y_test = y_test[idx_y_test]\n",
        "  #print(x_test.shape)\n",
        "\n",
        "  y_train_binary = (y_train == 5).astype(int)\n",
        "  y_test_binary = (y_test == 5).astype(int)\n",
        "  return (x_train, y_train_binary), (x_test, y_test_binary)"
      ]
    },
    {
      "cell_type": "code",
      "source": [
        "import matplotlib.pyplot as plt\n",
        "\n",
        "from keras.models import Sequential\n",
        "from keras.layers import Flatten, Dense\n",
        "from sklearn.metrics import confusion_matrix, \\\n",
        "precision_score, recall_score,f1_score\n",
        "\n",
        "(x_train, y_train_binary), (x_test, y_test_binary) = balanced_mnist_set()\n",
        "model = Sequential([\n",
        "    Flatten(input_shape=(28, 28)),\n",
        "    Dense(1)\n",
        "])\n",
        "\n",
        "model.compile(loss='binary_crossentropy', metrics=['accuracy'])\n",
        "history = model.fit(x_train, y_train_binary, epochs=4, verbose=0,\n",
        "                    batch_size=2000, validation_split=0.9)\n",
        "\n",
        "loss_train = history.history['loss']\n",
        "loss_val = history.history['val_loss']\n",
        "accuracy_train = history.history['accuracy']\n",
        "accuracy_val = history.history['val_accuracy']\n",
        "epochs = range(1, len(loss_train) + 1)\n",
        "\n",
        "# Loss\n",
        "plt.figure(figsize=(12, 6))\n",
        "plt.plot(epochs, loss_train, label='loss')\n",
        "plt.plot(epochs, loss_val, label='val_loss')\n",
        "plt.title('Loss')\n",
        "plt.xlabel('epoch')\n",
        "plt.ylabel('loss')\n",
        "plt.legend()\n",
        "plt.grid(True)\n",
        "plt.show()\n",
        "\n",
        "# Accuracy\n",
        "plt.figure(figsize=(12, 6))\n",
        "plt.plot(epochs, accuracy_train, label='accuracy')\n",
        "plt.plot(epochs, accuracy_val, label='val_accuracy')\n",
        "plt.title('Accuracy')\n",
        "plt.xlabel('epoch')\n",
        "plt.ylabel('accuracy')\n",
        "plt.legend()\n",
        "plt.grid(True)\n",
        "plt.show()\n",
        "\n",
        "\n",
        "y_pred = (model.predict(x_test, verbose=0) >= 0.5).astype(int)[:,0]\n",
        "\n",
        "print(precision_score(y_test_binary, y_pred),\n",
        "      recall_score(y_test_binary, y_pred),\n",
        "      f1_score(y_test_binary, y_pred),\n",
        "      precision_score(y_test_binary, y_pred, pos_label=0),\n",
        "      recall_score(y_test_binary, y_pred, pos_label=0),\n",
        "      f1_score(y_test_binary, y_pred, pos_label=0))"
      ],
      "metadata": {
        "id": "cw0euep449KN"
      },
      "execution_count": null,
      "outputs": []
    }
  ]
}