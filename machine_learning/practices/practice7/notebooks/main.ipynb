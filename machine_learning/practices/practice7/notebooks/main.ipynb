{
 "cells": [
  {
   "cell_type": "markdown",
   "metadata": {},
   "source": [
    "# Ejercicio 1: K-means con el archivo wine.csv Calcular el WCSS para k=1,…,10 y graficar los resultados:"
   ]
  },
  {
   "cell_type": "code",
   "execution_count": 1,
   "metadata": {},
   "outputs": [
    {
     "ename": "ModuleNotFoundError",
     "evalue": "No module named 'pandas'",
     "output_type": "error",
     "traceback": [
      "\u001b[0;31m---------------------------------------------------------------------------\u001b[0m",
      "\u001b[0;31mModuleNotFoundError\u001b[0m                       Traceback (most recent call last)",
      "Cell \u001b[0;32mIn[1], line 1\u001b[0m\n\u001b[0;32m----> 1\u001b[0m \u001b[38;5;28;01mimport\u001b[39;00m \u001b[38;5;21;01mpandas\u001b[39;00m \u001b[38;5;28;01mas\u001b[39;00m \u001b[38;5;21;01mpd\u001b[39;00m\n\u001b[1;32m      2\u001b[0m \u001b[38;5;28;01mimport\u001b[39;00m \u001b[38;5;21;01mmatplotlib\u001b[39;00m\u001b[38;5;21;01m.\u001b[39;00m\u001b[38;5;21;01mpyplot\u001b[39;00m \u001b[38;5;28;01mas\u001b[39;00m \u001b[38;5;21;01mplt\u001b[39;00m\n\u001b[1;32m      3\u001b[0m \u001b[38;5;28;01mfrom\u001b[39;00m \u001b[38;5;21;01msklearn\u001b[39;00m\u001b[38;5;21;01m.\u001b[39;00m\u001b[38;5;21;01mpreprocessing\u001b[39;00m \u001b[38;5;28;01mimport\u001b[39;00m StandardScaler\n",
      "\u001b[0;31mModuleNotFoundError\u001b[0m: No module named 'pandas'"
     ]
    }
   ],
   "source": [
    "import pandas as pd\n",
    "import matplotlib.pyplot as plt\n",
    "from sklearn.preprocessing import StandardScaler\n",
    "from sklearn.cluster import KMeans\n",
    "\n",
    "\n",
    "# Cargar los datos\n",
    "wine_data = pd.read_csv('data/wine.csv')\n",
    "wine_data.head()\n",
    "\n",
    "\n",
    "\n",
    "\n",
    "# Normalizar los datos\n",
    "scaler = StandardScaler()\n",
    "wine_data_scaled = scaler.fit_transform(wine_data)\n",
    "\n",
    "\n",
    "# Calcular WCSS para diferentes valores de k\n",
    "wcss = []\n",
    "for k in range(1, 11):\n",
    "    kmeans = KMeans(n_clusters=k, random_state=42)\n",
    "    kmeans.fit(wine_data_scaled)\n",
    "    wcss.append(kmeans.inertia_)\n",
    "\n",
    "# Graficar el WCSS\n",
    "plt.figure(figsize=(10, 5))\n",
    "plt.plot(range(1, 11), wcss, marker='o')\n",
    "plt.title('Elbow Method For Optimal k')\n",
    "plt.xlabel('Number of clusters (k)')\n",
    "plt.ylabel('WCSS')\n",
    "plt.show()\n"
   ]
  },
  {
   "cell_type": "markdown",
   "metadata": {},
   "source": [
    "# Justificación del valor óptimo de 𝑘\n",
    "\n",
    "El valor óptimo de 𝑘 se encuentra en el punto donde la gráfica del WCSS comienza a disminuir de manera menos pronunciada (elbow point). Esto indica que agregar más clusters no mejora significativamente el ajuste del modelo."
   ]
  },
  {
   "cell_type": "markdown",
   "metadata": {},
   "source": [
    "# Ejercicio 2: Clustering con el archivo clusters.csv"
   ]
  },
  {
   "cell_type": "code",
   "execution_count": null,
   "metadata": {},
   "outputs": [
    {
     "ename": "",
     "evalue": "",
     "output_type": "error",
     "traceback": [
      "\u001b[1;31mRunning cells with 'Python 3.11.4' requires the ipykernel package.\n",
      "\u001b[1;31mRun the following command to install 'ipykernel' into the Python environment. \n",
      "\u001b[1;31mCommand: '/usr/bin/python3 -m pip install ipykernel -U --user --force-reinstall'"
     ]
    }
   ],
   "source": [
    "import pandas as pd\n",
    "from sklearn.preprocessing import StandardScaler\n",
    "from sklearn.cluster import AgglomerativeClustering, KMeans, DBSCAN\n",
    "from sklearn.mixture import GaussianMixture\n",
    "from sklearn.metrics import silhouette_score, davies_bouldin_score, calinski_harabasz_score\n",
    "import matplotlib.pyplot as plt\n",
    "from scipy.cluster.hierarchy import dendrogram, linkage\n",
    "\n",
    "# Cargar los datos\n",
    "clusters_data = pd.read_csv('data/clusters.csv')\n",
    "\n",
    "# Normalizar los datos\n",
    "scaler = StandardScaler()\n",
    "clusters_data_scaled = scaler.fit_transform(clusters_data)\n",
    "\n",
    "# Hierarchical Clustering\n",
    "# Generar el dendrograma\n",
    "linked = linkage(clusters_data_scaled, 'ward')\n",
    "plt.figure(figsize=(10, 7))\n",
    "dendrogram(linked, orientation='top', distance_sort='descending', show_leaf_counts=True)\n",
    "plt.show()\n",
    "\n",
    "# Aplicar Agglomerative Clustering\n",
    "hierarchical = AgglomerativeClustering(n_clusters=3)\n",
    "clusters_hierarchical = hierarchical.fit_predict(clusters_data_scaled)\n",
    "\n",
    "# K-Means Clustering\n",
    "kmeans = KMeans(n_clusters=3, random_state=42)\n",
    "clusters_kmeans = kmeans.fit_predict(clusters_data_scaled)\n",
    "\n",
    "# DBSCAN Clustering\n",
    "# Función para probar diferentes parámetros de DBSCAN\n",
    "def test_dbscan(eps_values, min_samples_values, data):\n",
    "    best_eps = None\n",
    "    best_min_samples = None\n",
    "    best_score = -1\n",
    "    best_labels = None\n",
    "\n",
    "    for eps in eps_values:\n",
    "        for min_samples in min_samples_values:\n",
    "            dbscan = DBSCAN(eps=eps, min_samples=min_samples)\n",
    "            labels = dbscan.fit_predict(data)\n",
    "            if len(set(labels)) > 1:  # Asegurarse de que hay más de un cluster\n",
    "                score = silhouette_score(data, labels)\n",
    "                if score > best_score:\n",
    "                    best_score = score\n",
    "                    best_eps = eps\n",
    "                    best_min_samples = min_samples\n",
    "                    best_labels = labels\n",
    "\n",
    "    return best_eps, best_min_samples, best_score, best_labels\n",
    "\n",
    "# Probar diferentes valores para eps y min_samples\n",
    "eps_values = [0.3, 0.4, 0.5, 0.6, 0.7]\n",
    "min_samples_values = [3, 5, 7, 10]\n",
    "\n",
    "best_eps, best_min_samples, best_score, clusters_dbscan = test_dbscan(eps_values, min_samples_values, clusters_data_scaled)\n",
    "\n",
    "# Si no se encuentran clusters válidos, asignar una etiqueta predeterminada\n",
    "if clusters_dbscan is None:\n",
    "    clusters_dbscan = [-1] * len(clusters_data_scaled)\n",
    "\n",
    "# Gaussian Mixture\n",
    "gmm = GaussianMixture(n_components=3, random_state=42)\n",
    "clusters_gmm = gmm.fit_predict(clusters_data_scaled)\n",
    "\n",
    "# Evaluación de los resultados\n",
    "# Calcular las métricas para los otros algoritmos\n",
    "silhouette_scores = {\n",
    "    \"Hierarchical\": silhouette_score(clusters_data_scaled, clusters_hierarchical),\n",
    "    \"K-Means\": silhouette_score(clusters_data_scaled, clusters_kmeans),\n",
    "    \"DBSCAN\": silhouette_score(clusters_data_scaled, clusters_dbscan),\n",
    "    \"GMM\": silhouette_score(clusters_data_scaled, clusters_gmm)\n",
    "}\n",
    "\n",
    "davies_bouldin_scores = {\n",
    "    \"Hierarchical\": davies_bouldin_score(clusters_data_scaled, clusters_hierarchical),\n",
    "    \"K-Means\": davies_bouldin_score(clusters_data_scaled, clusters_kmeans),\n",
    "    \"DBSCAN\": davies_bouldin_score(clusters_data_scaled, clusters_dbscan),\n",
    "    \"GMM\": davies_bouldin_score(clusters_data_scaled, clusters_gmm)\n",
    "}\n",
    "\n",
    "calinski_harabasz_scores = {\n",
    "    \"Hierarchical\": calinski_harabasz_score(clusters_data_scaled, clusters_hierarchical),\n",
    "    \"K-Means\": calinski_harabasz_score(clusters_data_scaled, clusters_kmeans),\n",
    "    \"DBSCAN\": calinski_harabasz_score(clusters_data_scaled, clusters_dbscan),\n",
    "    \"GMM\": calinski_harabasz_score(clusters_data_scaled, clusters_gmm)\n",
    "}\n",
    "\n",
    "best_eps, best_min_samples, silhouette_scores, davies_bouldin_scores, calinski_harabasz_scores\n"
   ]
  }
 ],
 "metadata": {
  "kernelspec": {
   "display_name": "venv",
   "language": "python",
   "name": "python3"
  },
  "language_info": {
   "codemirror_mode": {
    "name": "ipython",
    "version": 3
   },
   "file_extension": ".py",
   "mimetype": "text/x-python",
   "name": "python",
   "nbconvert_exporter": "python",
   "pygments_lexer": "ipython3",
   "version": "3.11.4"
  }
 },
 "nbformat": 4,
 "nbformat_minor": 2
}
